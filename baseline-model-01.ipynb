{
 "cells": [
  {
   "cell_type": "code",
   "execution_count": 1,
   "id": "6618bdd5",
   "metadata": {
    "_cell_guid": "b1076dfc-b9ad-4769-8c92-a6c4dae69d19",
    "_uuid": "8f2839f25d086af736a60e9eeb907d3b93b6e0e5",
    "execution": {
     "iopub.execute_input": "2022-06-08T22:40:03.260883Z",
     "iopub.status.busy": "2022-06-08T22:40:03.260418Z",
     "iopub.status.idle": "2022-06-08T22:40:03.266602Z",
     "shell.execute_reply": "2022-06-08T22:40:03.265647Z"
    },
    "papermill": {
     "duration": 0.01584,
     "end_time": "2022-06-08T22:40:03.268868",
     "exception": false,
     "start_time": "2022-06-08T22:40:03.253028",
     "status": "completed"
    },
    "tags": []
   },
   "outputs": [],
   "source": [
    "# This Python 3 environment comes with many helpful analytics libraries installed\n",
    "# It is defined by the kaggle/python Docker image: https://github.com/kaggle/docker-python\n",
    "# For example, here's several helpful packages to load\n",
    "\n",
    "#import numpy as np # linear algebra\n",
    "#import pandas as pd # data processing, CSV file I/O (e.g. pd.read_csv)\n",
    "\n",
    "# Input data files are available in the read-only \"../input/\" directory\n",
    "# For example, running this (by clicking run or pressing Shift+Enter) will list all files under the input directory\n",
    "\n",
    "#import os\n",
    "#for dirname, _, filenames in os.walk('/kaggle/input'):\n",
    "    #for filename in filenames:\n",
    "        #print(os.path.join(dirname, filename))\n",
    "\n",
    "# You can write up to 20GB to the current directory (/kaggle/working/) that gets preserved as output when you create a version using \"Save & Run All\" \n",
    "# You can also write temporary files to /kaggle/temp/, but they won't be saved outside of the current session"
   ]
  },
  {
   "cell_type": "markdown",
   "id": "641eae73",
   "metadata": {
    "papermill": {
     "duration": 0.004426,
     "end_time": "2022-06-08T22:40:03.280579",
     "exception": false,
     "start_time": "2022-06-08T22:40:03.276153",
     "status": "completed"
    },
    "tags": []
   },
   "source": [
    "This notebook is a replicated version of a baseline model mentioned: https://www.kaggle.com/code/saitodevel01/gsdc2-baseline-submission. Kindly comment on your insights on the following"
   ]
  },
  {
   "cell_type": "code",
   "execution_count": 2,
   "id": "c3c3ce3f",
   "metadata": {
    "execution": {
     "iopub.execute_input": "2022-06-08T22:40:03.291879Z",
     "iopub.status.busy": "2022-06-08T22:40:03.291493Z",
     "iopub.status.idle": "2022-06-08T22:40:05.764814Z",
     "shell.execute_reply": "2022-06-08T22:40:05.763535Z"
    },
    "papermill": {
     "duration": 2.48178,
     "end_time": "2022-06-08T22:40:05.767169",
     "exception": false,
     "start_time": "2022-06-08T22:40:03.285389",
     "status": "completed"
    },
    "tags": []
   },
   "outputs": [],
   "source": [
    "from glob import glob\n",
    "import glob\n",
    "from tqdm import tqdm\n",
    "import pandas as pd\n",
    "import numpy as np\n",
    "import matplotlib.pyplot  as plt\n",
    "import plotly.express as px\n",
    "import seaborn as sns\n",
    "import collections\n",
    "\n",
    "\n",
    "INPUT_PATH = '../input/smartphone-decimeter-2022'\n",
    "\n",
    "from dataclasses import dataclass\n",
    "from scipy.interpolate import InterpolatedUnivariateSpline"
   ]
  },
  {
   "cell_type": "code",
   "execution_count": 3,
   "id": "4ba954d7",
   "metadata": {
    "execution": {
     "iopub.execute_input": "2022-06-08T22:40:05.778723Z",
     "iopub.status.busy": "2022-06-08T22:40:05.778198Z",
     "iopub.status.idle": "2022-06-08T22:40:05.783923Z",
     "shell.execute_reply": "2022-06-08T22:40:05.782907Z"
    },
    "papermill": {
     "duration": 0.014205,
     "end_time": "2022-06-08T22:40:05.786317",
     "exception": false,
     "start_time": "2022-06-08T22:40:05.772112",
     "status": "completed"
    },
    "tags": []
   },
   "outputs": [],
   "source": [
    "WGS84_SEMI_MAJOR_AXIS = 6378137.0\n",
    "WGS84_SEMI_MINOR_AXIS = 6356752.314245\n",
    "WGS84_SQUARED_FIRST_ECCENTRICITY  = 6.69437999013e-3\n",
    "WGS84_SQUARED_SECOND_ECCENTRICITY = 6.73949674226e-3\n",
    "\n",
    "HAVERSINE_RADIUS = 6_371_000\n"
   ]
  },
  {
   "cell_type": "code",
   "execution_count": 4,
   "id": "710ac032",
   "metadata": {
    "execution": {
     "iopub.execute_input": "2022-06-08T22:40:05.797656Z",
     "iopub.status.busy": "2022-06-08T22:40:05.797254Z",
     "iopub.status.idle": "2022-06-08T22:40:05.814859Z",
     "shell.execute_reply": "2022-06-08T22:40:05.813845Z"
    },
    "papermill": {
     "duration": 0.025774,
     "end_time": "2022-06-08T22:40:05.816857",
     "exception": false,
     "start_time": "2022-06-08T22:40:05.791083",
     "status": "completed"
    },
    "tags": []
   },
   "outputs": [],
   "source": [
    "@dataclass\n",
    "class ECEF:\n",
    "    x: np.array\n",
    "    y: np.array\n",
    "    z: np.array\n",
    "\n",
    "    def to_numpy(self):\n",
    "        return np.stack([self.x, self.y, self.z], axis=0)\n",
    "\n",
    "    @staticmethod\n",
    "    def from_numpy(pos):\n",
    "        x, y, z = [np.squeeze(w) for w in np.split(pos, 3, axis=-1)]\n",
    "        return ECEF(x=x, y=y, z=z)\n",
    "\n",
    "@dataclass\n",
    "class BLH:\n",
    "    lat : np.array\n",
    "    lng : np.array\n",
    "    hgt : np.array\n",
    "\n",
    "def ECEF_to_BLH(ecef):\n",
    "    a = WGS84_SEMI_MAJOR_AXIS\n",
    "    b = WGS84_SEMI_MINOR_AXIS\n",
    "    e2  = WGS84_SQUARED_FIRST_ECCENTRICITY\n",
    "    e2_ = WGS84_SQUARED_SECOND_ECCENTRICITY\n",
    "    x = ecef.x\n",
    "    y = ecef.y\n",
    "    z = ecef.z\n",
    "    r = np.sqrt(x**2 + y**2)\n",
    "    t = np.arctan2(z * (a/b), r)\n",
    "    B = np.arctan2(z + (e2_*b)*np.sin(t)**3, r - (e2*a)*np.cos(t)**3)\n",
    "    L = np.arctan2(y, x)\n",
    "    n = a / np.sqrt(1 - e2*np.sin(B)**2)\n",
    "    H = (r / np.cos(B)) - n\n",
    "    return BLH(lat=B, lng=L, hgt=H)\n",
    "\n",
    "def haversine_distance(blh_1, blh_2):\n",
    "    dlat = blh_2.lat - blh_1.lat\n",
    "    dlng = blh_2.lng - blh_1.lng\n",
    "    a = np.sin(dlat/2)**2 + np.cos(blh_1.lat) * np.cos(blh_2.lat) * np.sin(dlng/2)**2\n",
    "    dist = 2 * HAVERSINE_RADIUS * np.arcsin(np.sqrt(a))\n",
    "    return dist\n",
    "\n",
    "def pandas_haversine_distance(df1, df2):\n",
    "    blh1 = BLH(\n",
    "        lat=np.deg2rad(df1['LatitudeDegrees'].to_numpy()),\n",
    "        lng=np.deg2rad(df1['LongitudeDegrees'].to_numpy()),\n",
    "        hgt=0,\n",
    "    )\n",
    "    blh2 = BLH(\n",
    "        lat=np.deg2rad(df2['LatitudeDegrees'].to_numpy()),\n",
    "        lng=np.deg2rad(df2['LongitudeDegrees'].to_numpy()),\n",
    "        hgt=0,\n",
    "    )\n",
    "    return haversine_distance(blh1, blh2)"
   ]
  },
  {
   "cell_type": "code",
   "execution_count": 5,
   "id": "e2488e52",
   "metadata": {
    "execution": {
     "iopub.execute_input": "2022-06-08T22:40:05.828166Z",
     "iopub.status.busy": "2022-06-08T22:40:05.827582Z",
     "iopub.status.idle": "2022-06-08T22:40:05.837473Z",
     "shell.execute_reply": "2022-06-08T22:40:05.836459Z"
    },
    "papermill": {
     "duration": 0.018437,
     "end_time": "2022-06-08T22:40:05.839856",
     "exception": false,
     "start_time": "2022-06-08T22:40:05.821419",
     "status": "completed"
    },
    "tags": []
   },
   "outputs": [],
   "source": [
    "def ecef_to_lat_lng(tripID, gnss_df, UnixTimeMillis):\n",
    "    ecef_columns = ['WlsPositionXEcefMeters', 'WlsPositionYEcefMeters', 'WlsPositionZEcefMeters']\n",
    "    columns = ['utcTimeMillis'] + ecef_columns\n",
    "    ecef_df = (gnss_df.drop_duplicates(subset='utcTimeMillis')[columns]\n",
    "               .dropna().reset_index(drop=True))\n",
    "    ecef = ECEF.from_numpy(ecef_df[ecef_columns].to_numpy())\n",
    "    blh  = ECEF_to_BLH(ecef)\n",
    "\n",
    "    TIME = ecef_df['utcTimeMillis'].to_numpy()\n",
    "    lat = InterpolatedUnivariateSpline(TIME, blh.lat, ext=3)(UnixTimeMillis)\n",
    "    lng = InterpolatedUnivariateSpline(TIME, blh.lng, ext=3)(UnixTimeMillis)\n",
    "    return pd.DataFrame({\n",
    "        'tripId' : tripID,\n",
    "        'UnixTimeMillis'   : UnixTimeMillis,\n",
    "        'LatitudeDegrees'  : np.degrees(lat),\n",
    "        'LongitudeDegrees' : np.degrees(lng),\n",
    "    })\n",
    "\n",
    "def calc_score(tripID, pred_df, gt_df):\n",
    "    d = pandas_haversine_distance(pred_df, gt_df)\n",
    "    score = np.mean([np.quantile(d, 0.50), np.quantile(d, 0.95)])    \n",
    "    return score"
   ]
  },
  {
   "cell_type": "code",
   "execution_count": 6,
   "id": "7660f655",
   "metadata": {
    "execution": {
     "iopub.execute_input": "2022-06-08T22:40:05.851542Z",
     "iopub.status.busy": "2022-06-08T22:40:05.851111Z",
     "iopub.status.idle": "2022-06-08T22:42:53.468064Z",
     "shell.execute_reply": "2022-06-08T22:42:53.466463Z"
    },
    "papermill": {
     "duration": 167.625628,
     "end_time": "2022-06-08T22:42:53.470195",
     "exception": false,
     "start_time": "2022-06-08T22:40:05.844567",
     "status": "completed"
    },
    "tags": []
   },
   "outputs": [
    {
     "name": "stdout",
     "output_type": "stream",
     "text": [
      "2020-05-15-US-MTV-1/GooglePixel4XL           : score = 4.319\n",
      "2020-05-21-US-MTV-1/GooglePixel4             : score = 3.434\n",
      "2020-05-21-US-MTV-1/GooglePixel4XL           : score = 2.277\n",
      "2020-05-21-US-MTV-2/GooglePixel4             : score = 2.121\n",
      "2020-05-21-US-MTV-2/GooglePixel4XL           : score = 2.464\n",
      "2020-05-28-US-MTV-2/GooglePixel4             : score = 2.938\n",
      "2020-05-28-US-MTV-2/GooglePixel4XL           : score = 2.191\n",
      "2020-05-29-US-MTV-1/GooglePixel4             : score = 2.814\n",
      "2020-05-29-US-MTV-1/GooglePixel4XL           : score = 2.489\n",
      "2020-05-29-US-MTV-2/GooglePixel4             : score = 2.930\n",
      "2020-05-29-US-MTV-2/GooglePixel4XL           : score = 2.786\n",
      "2020-06-04-US-MTV-1/GooglePixel4             : score = 2.429\n",
      "2020-06-04-US-MTV-1/GooglePixel4XL           : score = 1.758\n",
      "2020-06-04-US-MTV-2/GooglePixel4             : score = 2.351\n",
      "2020-06-04-US-MTV-2/GooglePixel4XL           : score = 2.293\n",
      "2020-06-05-US-MTV-1/GooglePixel4             : score = 2.086\n",
      "2020-06-05-US-MTV-1/GooglePixel4XL           : score = 1.988\n",
      "2020-06-05-US-MTV-2/GooglePixel4             : score = 2.594\n",
      "2020-06-05-US-MTV-2/GooglePixel4XL           : score = 2.250\n",
      "2020-06-10-US-MTV-1/GooglePixel4             : score = 2.249\n",
      "2020-06-10-US-MTV-1/GooglePixel4XL           : score = 2.250\n",
      "2020-06-10-US-MTV-2/GooglePixel4             : score = 2.651\n",
      "2020-06-10-US-MTV-2/GooglePixel4XL           : score = 2.155\n",
      "2020-06-11-US-MTV-1/GooglePixel4             : score = 2.107\n",
      "2020-06-11-US-MTV-1/GooglePixel4XL           : score = 1.564\n",
      "2020-06-18-US-MTV-1/GooglePixel4             : score = 2.404\n",
      "2020-06-18-US-MTV-1/GooglePixel4XL           : score = 2.185\n",
      "2020-06-24-US-MTV-1/GooglePixel4             : score = 2.779\n",
      "2020-06-24-US-MTV-1/GooglePixel4XL           : score = 1.782\n",
      "2020-06-24-US-MTV-2/GooglePixel4             : score = 3.057\n",
      "2020-06-24-US-MTV-2/GooglePixel4XL           : score = 2.073\n",
      "2020-07-08-US-MTV-1/GooglePixel4             : score = 2.953\n",
      "2020-07-08-US-MTV-1/GooglePixel4XL           : score = 2.490\n",
      "2020-07-08-US-MTV-2/GooglePixel4             : score = 27.021\n"
     ]
    },
    {
     "name": "stderr",
     "output_type": "stream",
     "text": [
      "/opt/conda/lib/python3.7/site-packages/IPython/core/interactiveshell.py:3552: DtypeWarning: Columns (29) have mixed types.Specify dtype option on import or set low_memory=False.\n",
      "  exec(code_obj, self.user_global_ns, self.user_ns)\n"
     ]
    },
    {
     "name": "stdout",
     "output_type": "stream",
     "text": [
      "2020-07-08-US-MTV-2/GooglePixel4XL           : score = 11.153\n",
      "2020-07-17-US-MTV-2/GooglePixel4             : score = 2.107\n",
      "2020-07-17-US-MTV-2/GooglePixel4XL           : score = 4.550\n",
      "2020-07-24-US-MTV-1/GooglePixel4             : score = 2.412\n",
      "2020-07-24-US-MTV-1/GooglePixel4XL           : score = 2.307\n",
      "2020-07-24-US-MTV-1/GooglePixel5             : score = 2.450\n",
      "2020-07-24-US-MTV-2/GooglePixel4             : score = 2.057\n",
      "2020-07-24-US-MTV-2/GooglePixel4XL           : score = 2.567\n",
      "2020-07-24-US-MTV-2/GooglePixel5             : score = 3.031\n",
      "2020-08-03-US-MTV-1/GooglePixel4             : score = 2.671\n",
      "2020-08-03-US-MTV-1/GooglePixel4XL           : score = 2.617\n",
      "2020-08-03-US-MTV-2/GooglePixel4             : score = 3.587\n",
      "2020-08-03-US-MTV-2/GooglePixel4XL           : score = 2.950\n",
      "2020-08-03-US-MTV-2/GooglePixel5             : score = 7.447\n",
      "2020-08-06-US-MTV-1/GooglePixel4             : score = 6.109\n",
      "2020-08-06-US-MTV-1/GooglePixel4XL           : score = 5.659\n",
      "2020-08-06-US-MTV-2/GooglePixel4             : score = 6.024\n",
      "2020-08-06-US-MTV-2/GooglePixel4XL           : score = 5.936\n",
      "2020-08-06-US-MTV-2/GooglePixel5             : score = 6.330\n",
      "2020-08-11-US-MTV-1/GooglePixel4             : score = 4.955\n",
      "2020-08-11-US-MTV-2/GooglePixel4             : score = 3.962\n",
      "2020-08-11-US-MTV-2/GooglePixel4XL           : score = 5.069\n",
      "2020-08-13-US-MTV-1/GooglePixel4             : score = 3.263\n",
      "2020-08-13-US-MTV-1/GooglePixel4XL           : score = 2.415\n",
      "2020-08-13-US-MTV-1/GooglePixel5             : score = 3.762\n",
      "2020-09-04-US-MTV-1/GooglePixel4             : score = 6.585\n",
      "2020-09-04-US-MTV-1/GooglePixel4XL           : score = 2.364\n",
      "2020-09-04-US-MTV-2/GooglePixel4             : score = 2.758\n",
      "2020-09-04-US-MTV-2/GooglePixel4XL           : score = 2.058\n",
      "2020-11-23-US-MTV-1/XiaomiMi8                : score = 4.825\n",
      "2020-12-10-US-SJC-1/GooglePixel4             : score = 9.235\n",
      "2020-12-10-US-SJC-1/GooglePixel4XL           : score = 9.889\n",
      "2020-12-10-US-SJC-1/XiaomiMi8                : score = 6.588\n",
      "2020-12-10-US-SJC-2/GooglePixel4             : score = 3.999\n",
      "2020-12-10-US-SJC-2/GooglePixel4XL           : score = 2.920\n",
      "2020-12-10-US-SJC-2/GooglePixel5             : score = 4.428\n",
      "2020-12-10-US-SJC-2/XiaomiMi8                : score = 4.872\n",
      "2021-01-04-US-SFO-1/GooglePixel4             : score = 2.178\n",
      "2021-01-04-US-SFO-1/GooglePixel4XL           : score = 5.551\n",
      "2021-01-04-US-SFO-1/GooglePixel5             : score = 2.203\n",
      "2021-01-04-US-SFO-1/XiaomiMi8                : score = 2.502\n",
      "2021-01-04-US-SFO-2/GooglePixel4             : score = 2.767\n",
      "2021-01-04-US-SFO-2/GooglePixel4XL           : score = 6.068\n",
      "2021-01-04-US-SFO-2/GooglePixel5             : score = 2.794\n",
      "2021-01-04-US-SFO-2/XiaomiMi8                : score = 2.324\n",
      "2021-01-05-US-MTV-1/GooglePixel4             : score = 2.533\n",
      "2021-01-05-US-MTV-1/GooglePixel4XL           : score = 7.988\n",
      "2021-01-05-US-MTV-1/XiaomiMi8                : score = 2.852\n",
      "2021-01-05-US-MTV-2/GooglePixel4             : score = 2.325\n",
      "2021-01-05-US-MTV-2/GooglePixel4XL           : score = 6.859\n",
      "2021-01-05-US-MTV-2/XiaomiMi8                : score = 2.877\n",
      "2021-03-10-US-MTV-1/GooglePixel4XL           : score = 6.933\n",
      "2021-03-10-US-MTV-1/GooglePixel5             : score = 4.296\n",
      "2021-03-10-US-MTV-1/XiaomiMi8                : score = 4.500\n",
      "2021-03-16-US-MTV-1/GooglePixel4XL           : score = 7.966\n",
      "2021-03-16-US-MTV-1/GooglePixel5             : score = 3.832\n",
      "2021-03-16-US-MTV-1/SamsungGalaxyS20Ultra    : score = 6.512\n",
      "2021-03-16-US-MTV-1/XiaomiMi8                : score = 4.308\n",
      "2021-03-16-US-MTV-2/GooglePixel4XL           : score = 5.603\n",
      "2021-03-16-US-MTV-2/GooglePixel5             : score = 5.415\n",
      "2021-03-16-US-MTV-2/SamsungGalaxyS20Ultra    : score = 7.888\n",
      "2021-03-16-US-MTV-2/XiaomiMi8                : score = 6.691\n",
      "2021-03-16-US-MTV-3/GooglePixel4XL           : score = 3.263\n",
      "2021-03-16-US-MTV-3/GooglePixel5             : score = 3.503\n",
      "2021-03-16-US-MTV-3/SamsungGalaxyS20Ultra    : score = 3.094\n",
      "2021-03-16-US-MTV-3/XiaomiMi8                : score = 2.685\n",
      "2021-04-02-US-SJC-1/GooglePixel4             : score = 7.940\n",
      "2021-04-02-US-SJC-1/GooglePixel5             : score = 4.116\n",
      "2021-04-02-US-SJC-1/SamsungGalaxyS20Ultra    : score = 4.535\n",
      "2021-04-02-US-SJC-1/XiaomiMi8                : score = 4.467\n",
      "2021-04-08-US-MTV-1/GooglePixel4             : score = 8.829\n",
      "2021-04-08-US-MTV-1/GooglePixel5             : score = 2.895\n",
      "2021-04-08-US-MTV-1/SamsungGalaxyS20Ultra    : score = 5.032\n",
      "2021-04-21-US-MTV-2/SamsungGalaxyS20Ultra    : score = 9.344\n",
      "2021-04-21-US-MTV-2/XiaomiMi8                : score = 9.276\n",
      "2021-04-26-US-SVL-2/SamsungGalaxyS20Ultra    : score = 4.709\n",
      "2021-04-26-US-SVL-2/XiaomiMi8                : score = 4.677\n",
      "2021-04-28-US-MTV-1/SamsungGalaxyS20Ultra    : score = 7.158\n",
      "2021-04-29-US-MTV-1/SamsungGalaxyS20Ultra    : score = 10.017\n",
      "2021-04-29-US-MTV-1/XiaomiMi8                : score = 7.493\n",
      "2021-04-29-US-MTV-2/SamsungGalaxyS20Ultra    : score = 8.253\n",
      "2021-04-29-US-MTV-2/XiaomiMi8                : score = 8.049\n",
      "2021-07-01-US-MTV-1/GooglePixel4             : score = 2.731\n",
      "2021-07-01-US-MTV-1/GooglePixel5             : score = 3.426\n",
      "2021-07-01-US-MTV-1/SamsungGalaxyS20Ultra    : score = 6.498\n",
      "2021-07-01-US-MTV-1/XiaomiMi8                : score = 6.331\n",
      "2021-07-14-US-MTV-1/GooglePixel4             : score = 4.040\n",
      "2021-07-14-US-MTV-1/GooglePixel5             : score = 3.353\n",
      "2021-07-14-US-MTV-1/SamsungGalaxyS20Ultra    : score = 3.636\n",
      "2021-07-14-US-MTV-1/XiaomiMi8                : score = 3.455\n",
      "2021-07-19-US-MTV-1/GooglePixel4             : score = 2.192\n",
      "2021-07-19-US-MTV-1/GooglePixel5             : score = 2.065\n",
      "2021-07-19-US-MTV-1/SamsungGalaxyS20Ultra    : score = 3.696\n",
      "2021-07-19-US-MTV-1/XiaomiMi8                : score = 3.395\n",
      "2021-07-27-US-MTV-1/GooglePixel4             : score = 2.844\n",
      "2021-07-27-US-MTV-1/GooglePixel5             : score = 2.709\n",
      "2021-07-27-US-MTV-1/XiaomiMi8                : score = 3.587\n",
      "2021-08-04-US-SJC-1/GooglePixel4             : score = 5.000\n",
      "2021-08-04-US-SJC-1/GooglePixel5             : score = 3.136\n",
      "2021-08-04-US-SJC-1/SamsungGalaxyS20Ultra    : score = 4.756\n",
      "2021-08-24-US-SVL-1/GooglePixel4             : score = 3.891\n",
      "2021-08-24-US-SVL-1/GooglePixel5             : score = 3.479\n",
      "2021-08-24-US-SVL-1/SamsungGalaxyS20Ultra    : score = 4.525\n",
      "2021-08-24-US-SVL-1/XiaomiMi8                : score = 4.494\n",
      "2021-12-07-US-LAX-1/GooglePixel5             : score = 5.057\n",
      "2021-12-07-US-LAX-1/GooglePixel6Pro          : score = 3.633\n",
      "2021-12-07-US-LAX-1/SamsungGalaxyS20Ultra    : score = 3.821\n",
      "2021-12-07-US-LAX-1/XiaomiMi8                : score = 4.531\n",
      "2021-12-07-US-LAX-2/GooglePixel5             : score = 6.445\n",
      "2021-12-07-US-LAX-2/GooglePixel6Pro          : score = 4.689\n",
      "2021-12-07-US-LAX-2/SamsungGalaxyS20Ultra    : score = 5.133\n",
      "2021-12-07-US-LAX-2/XiaomiMi8                : score = 4.755\n",
      "2021-12-08-US-LAX-1/GooglePixel5             : score = 5.483\n",
      "2021-12-08-US-LAX-1/GooglePixel6Pro          : score = 5.340\n",
      "2021-12-08-US-LAX-1/SamsungGalaxyS20Ultra    : score = 4.136\n",
      "2021-12-08-US-LAX-1/XiaomiMi8                : score = 3.710\n",
      "2021-12-08-US-LAX-3/GooglePixel5             : score = 7.826\n",
      "2021-12-08-US-LAX-3/GooglePixel6Pro          : score = 6.202\n",
      "2021-12-08-US-LAX-3/SamsungGalaxyS20Ultra    : score = 5.924\n",
      "2021-12-08-US-LAX-3/XiaomiMi8                : score = 3.992\n",
      "2021-12-08-US-LAX-5/GooglePixel5             : score = 3.838\n",
      "2021-12-08-US-LAX-5/GooglePixel6Pro          : score = 4.029\n",
      "2021-12-08-US-LAX-5/SamsungGalaxyS20Ultra    : score = 4.745\n",
      "2021-12-08-US-LAX-5/XiaomiMi8                : score = 4.607\n",
      "2021-12-09-US-LAX-2/GooglePixel5             : score = 4.288\n",
      "2021-12-09-US-LAX-2/GooglePixel6Pro          : score = 3.338\n",
      "2021-12-09-US-LAX-2/SamsungGalaxyS20Ultra    : score = 4.851\n",
      "2021-12-09-US-LAX-2/XiaomiMi8                : score = 5.870\n",
      "2021-12-15-US-MTV-1/GooglePixel5             : score = 3.366\n",
      "2021-12-15-US-MTV-1/GooglePixel6Pro          : score = 2.362\n",
      "2021-12-15-US-MTV-1/SamsungGalaxyS20Ultra    : score = 4.875\n",
      "2021-12-15-US-MTV-1/XiaomiMi8                : score = 3.370\n",
      "2021-12-28-US-MTV-1/GooglePixel5             : score = 4.843\n",
      "2021-12-28-US-MTV-1/GooglePixel6Pro          : score = 3.639\n",
      "2021-12-28-US-MTV-1/SamsungGalaxyS20Ultra    : score = 5.664\n",
      "2021-12-28-US-MTV-1/XiaomiMi8                : score = 3.845\n"
     ]
    }
   ],
   "source": [
    "pred_dfs  = []\n",
    "score_list = []\n",
    "for dirname in sorted(glob.glob(f'{INPUT_PATH}/train/*/*')):\n",
    "    drive, phone = dirname.split('/')[-2:]\n",
    "    tripID  = f'{drive}/{phone}'\n",
    "    gnss_df = pd.read_csv(f'{dirname}/device_gnss.csv')\n",
    "    gt_df   = pd.read_csv(f'{dirname}/ground_truth.csv')\n",
    "    pred_df = ecef_to_lat_lng(tripID, gnss_df, gt_df['UnixTimeMillis'].to_numpy())\n",
    "    pred_dfs.append(pred_df)\n",
    "    score = calc_score(tripID, pred_df, gt_df)\n",
    "    print(f'{tripID:<45}: score = {score:.3f}')\n",
    "    score_list.append(score)"
   ]
  },
  {
   "cell_type": "code",
   "execution_count": 7,
   "id": "372e3dc7",
   "metadata": {
    "collapsed": true,
    "execution": {
     "iopub.execute_input": "2022-06-08T22:42:53.504330Z",
     "iopub.status.busy": "2022-06-08T22:42:53.503944Z",
     "iopub.status.idle": "2022-06-08T22:42:55.629660Z",
     "shell.execute_reply": "2022-06-08T22:42:55.628650Z"
    },
    "jupyter": {
     "outputs_hidden": true
    },
    "papermill": {
     "duration": 2.145789,
     "end_time": "2022-06-08T22:42:55.632033",
     "exception": false,
     "start_time": "2022-06-08T22:42:53.486244",
     "status": "completed"
    },
    "tags": []
   },
   "outputs": [],
   "source": [
    "baseline_train_df = pd.concat(pred_dfs)\n",
    "baseline_train_df.to_csv('baseline_train.csv', index=False)"
   ]
  },
  {
   "cell_type": "code",
   "execution_count": 8,
   "id": "6416359b",
   "metadata": {
    "execution": {
     "iopub.execute_input": "2022-06-08T22:42:55.667073Z",
     "iopub.status.busy": "2022-06-08T22:42:55.666326Z",
     "iopub.status.idle": "2022-06-08T22:42:55.671476Z",
     "shell.execute_reply": "2022-06-08T22:42:55.670497Z"
    },
    "papermill": {
     "duration": 0.025304,
     "end_time": "2022-06-08T22:42:55.674280",
     "exception": false,
     "start_time": "2022-06-08T22:42:55.648976",
     "status": "completed"
    },
    "tags": []
   },
   "outputs": [
    {
     "name": "stdout",
     "output_type": "stream",
     "text": [
      "mean_score = 4.357\n"
     ]
    }
   ],
   "source": [
    "mean_score = np.mean(score_list)\n",
    "print(f'mean_score = {mean_score:.3f}')"
   ]
  },
  {
   "cell_type": "code",
   "execution_count": 9,
   "id": "7ec901bd",
   "metadata": {
    "collapsed": true,
    "execution": {
     "iopub.execute_input": "2022-06-08T22:42:55.708260Z",
     "iopub.status.busy": "2022-06-08T22:42:55.707871Z",
     "iopub.status.idle": "2022-06-08T22:43:31.402127Z",
     "shell.execute_reply": "2022-06-08T22:43:31.400746Z"
    },
    "jupyter": {
     "outputs_hidden": true
    },
    "papermill": {
     "duration": 35.714032,
     "end_time": "2022-06-08T22:43:31.404655",
     "exception": false,
     "start_time": "2022-06-08T22:42:55.690623",
     "status": "completed"
    },
    "tags": []
   },
   "outputs": [
    {
     "name": "stderr",
     "output_type": "stream",
     "text": [
      "100%|██████████| 36/36 [00:34<00:00,  1.04it/s]\n"
     ]
    }
   ],
   "source": [
    "sample_df = pd.read_csv(f'{INPUT_PATH}/sample_submission.csv')\n",
    "pred_dfs  = []\n",
    "for dirname in tqdm(sorted(glob.glob(f'{INPUT_PATH}/test/*/*'))):\n",
    "    drive, phone = dirname.split('/')[-2:]\n",
    "    tripID  = f'{drive}/{phone}'\n",
    "    gnss_df = pd.read_csv(f'{dirname}/device_gnss.csv')\n",
    "    UnixTimeMillis = sample_df[sample_df['tripId'] == tripID]['UnixTimeMillis'].to_numpy()\n",
    "    pred_dfs.append(ecef_to_lat_lng(tripID, gnss_df, UnixTimeMillis))\n",
    "baseline_test_df = pd.concat(pred_dfs)\n",
    "baseline_test_df.to_csv('baseline_test.csv', index=False)\n",
    "baseline_test_df.to_csv('submission.csv', index=False)"
   ]
  },
  {
   "cell_type": "code",
   "execution_count": null,
   "id": "d416b26c",
   "metadata": {
    "papermill": {
     "duration": 0.022286,
     "end_time": "2022-06-08T22:43:31.447816",
     "exception": false,
     "start_time": "2022-06-08T22:43:31.425530",
     "status": "completed"
    },
    "tags": []
   },
   "outputs": [],
   "source": []
  },
  {
   "cell_type": "code",
   "execution_count": null,
   "id": "b579de5f",
   "metadata": {
    "papermill": {
     "duration": 0.019957,
     "end_time": "2022-06-08T22:43:31.489062",
     "exception": false,
     "start_time": "2022-06-08T22:43:31.469105",
     "status": "completed"
    },
    "tags": []
   },
   "outputs": [],
   "source": []
  },
  {
   "cell_type": "code",
   "execution_count": null,
   "id": "bb5f2106",
   "metadata": {
    "papermill": {
     "duration": 0.018305,
     "end_time": "2022-06-08T22:43:31.526126",
     "exception": false,
     "start_time": "2022-06-08T22:43:31.507821",
     "status": "completed"
    },
    "tags": []
   },
   "outputs": [],
   "source": []
  },
  {
   "cell_type": "code",
   "execution_count": null,
   "id": "23b21aa8",
   "metadata": {
    "papermill": {
     "duration": 0.018326,
     "end_time": "2022-06-08T22:43:31.563422",
     "exception": false,
     "start_time": "2022-06-08T22:43:31.545096",
     "status": "completed"
    },
    "tags": []
   },
   "outputs": [],
   "source": []
  },
  {
   "cell_type": "code",
   "execution_count": null,
   "id": "e6d4ab12",
   "metadata": {
    "papermill": {
     "duration": 0.018584,
     "end_time": "2022-06-08T22:43:31.600687",
     "exception": false,
     "start_time": "2022-06-08T22:43:31.582103",
     "status": "completed"
    },
    "tags": []
   },
   "outputs": [],
   "source": []
  }
 ],
 "metadata": {
  "kernelspec": {
   "display_name": "Python 3",
   "language": "python",
   "name": "python3"
  },
  "language_info": {
   "codemirror_mode": {
    "name": "ipython",
    "version": 3
   },
   "file_extension": ".py",
   "mimetype": "text/x-python",
   "name": "python",
   "nbconvert_exporter": "python",
   "pygments_lexer": "ipython3",
   "version": "3.7.12"
  },
  "papermill": {
   "default_parameters": {},
   "duration": 219.669595,
   "end_time": "2022-06-08T22:43:32.443260",
   "environment_variables": {},
   "exception": null,
   "input_path": "__notebook__.ipynb",
   "output_path": "__notebook__.ipynb",
   "parameters": {},
   "start_time": "2022-06-08T22:39:52.773665",
   "version": "2.3.4"
  }
 },
 "nbformat": 4,
 "nbformat_minor": 5
}
